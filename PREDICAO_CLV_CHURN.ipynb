{
 "cells": [
  {
   "cell_type": "markdown",
   "id": "509f1af9",
   "metadata": {},
   "source": [
    "# IMPORTAÇÃO DOS PACOTES"
   ]
  },
  {
   "cell_type": "code",
   "execution_count": 1,
   "id": "185036c7",
   "metadata": {},
   "outputs": [],
   "source": [
    "import pandas as pd\n",
    "import numpy as np\n",
    "from lifetimes import BetaGeoFitter, GammaGammaFitter\n",
    "from lifetimes.utils import summary_data_from_transaction_data\n",
    "from lifetimes.plotting import plot_period_transactions\n",
    "from lifetimes.datasets import load_dataset\n",
    "from sklearn.preprocessing import KBinsDiscretizer\n",
    "from sklearn.metrics import mean_squared_error, confusion_matrix, mean_absolute_error, f1_score, r2_score\n",
    "from math import sqrt\n",
    "from datetime import date, timedelta\n",
    "import seaborn as sns\n",
    "import matplotlib.pyplot as plt\n",
    "import warnings\n",
    "warnings.filterwarnings('ignore')\n",
    "%matplotlib inline"
   ]
  },
  {
   "cell_type": "markdown",
   "id": "c42048ee",
   "metadata": {},
   "source": [
    "# IMPORTAÇÃO DO DATASET E PREPARAÇÃO DOS DADOS"
   ]
  },
  {
   "cell_type": "code",
   "execution_count": 2,
   "id": "1f1135a6",
   "metadata": {},
   "outputs": [
    {
     "data": {
      "text/html": [
       "<div>\n",
       "<style scoped>\n",
       "    .dataframe tbody tr th:only-of-type {\n",
       "        vertical-align: middle;\n",
       "    }\n",
       "\n",
       "    .dataframe tbody tr th {\n",
       "        vertical-align: top;\n",
       "    }\n",
       "\n",
       "    .dataframe thead th {\n",
       "        text-align: right;\n",
       "    }\n",
       "</style>\n",
       "<table border=\"1\" class=\"dataframe\">\n",
       "  <thead>\n",
       "    <tr style=\"text-align: right;\">\n",
       "      <th></th>\n",
       "      <th>id_cliente</th>\n",
       "      <th>index_cliente</th>\n",
       "      <th>data</th>\n",
       "      <th>quantidade</th>\n",
       "      <th>preco</th>\n",
       "    </tr>\n",
       "  </thead>\n",
       "  <tbody>\n",
       "    <tr>\n",
       "      <th>0</th>\n",
       "      <td>4</td>\n",
       "      <td>1</td>\n",
       "      <td>1997-01-01</td>\n",
       "      <td>2</td>\n",
       "      <td>29.33</td>\n",
       "    </tr>\n",
       "    <tr>\n",
       "      <th>1</th>\n",
       "      <td>4</td>\n",
       "      <td>1</td>\n",
       "      <td>1997-01-18</td>\n",
       "      <td>2</td>\n",
       "      <td>29.73</td>\n",
       "    </tr>\n",
       "    <tr>\n",
       "      <th>2</th>\n",
       "      <td>4</td>\n",
       "      <td>1</td>\n",
       "      <td>1997-08-02</td>\n",
       "      <td>1</td>\n",
       "      <td>14.96</td>\n",
       "    </tr>\n",
       "  </tbody>\n",
       "</table>\n",
       "</div>"
      ],
      "text/plain": [
       "   id_cliente  index_cliente       data  quantidade  preco\n",
       "0           4              1 1997-01-01           2  29.33\n",
       "1           4              1 1997-01-18           2  29.73\n",
       "2           4              1 1997-08-02           1  14.96"
      ]
     },
     "execution_count": 2,
     "metadata": {},
     "output_type": "execute_result"
    }
   ],
   "source": [
    "df = load_dataset(filename='CDNOW_sample.txt', \n",
    "    #header=None, \n",
    "    delim_whitespace=True, \n",
    "    names=['id_cliente', 'index_cliente', 'data', 'quantidade', 'preco'],\n",
    "    converters={'data': lambda x: pd.to_datetime(x, format=\"%Y-%m-%d\")}\n",
    ")\n",
    "\n",
    "df.head(3)"
   ]
  },
  {
   "cell_type": "code",
   "execution_count": 3,
   "id": "cd695cf1",
   "metadata": {},
   "outputs": [],
   "source": [
    "#Criando um parâmetro de Valor Total\n",
    "df[\"valor\"] = df[\"preco\"]*df[\"quantidade\"]"
   ]
  },
  {
   "cell_type": "code",
   "execution_count": 4,
   "id": "ae508cf8",
   "metadata": {},
   "outputs": [],
   "source": [
    "#df.groupby(['id_cliente','data_transacao']).agg({'valor':'sum'}).reset_index().sort_values(by='id_cliente')\n",
    "df = df[['id_cliente','data','valor']]"
   ]
  },
  {
   "cell_type": "code",
   "execution_count": 5,
   "id": "e2135f0d",
   "metadata": {},
   "outputs": [
    {
     "data": {
      "text/html": [
       "<div>\n",
       "<style scoped>\n",
       "    .dataframe tbody tr th:only-of-type {\n",
       "        vertical-align: middle;\n",
       "    }\n",
       "\n",
       "    .dataframe tbody tr th {\n",
       "        vertical-align: top;\n",
       "    }\n",
       "\n",
       "    .dataframe thead th {\n",
       "        text-align: right;\n",
       "    }\n",
       "</style>\n",
       "<table border=\"1\" class=\"dataframe\">\n",
       "  <thead>\n",
       "    <tr style=\"text-align: right;\">\n",
       "      <th></th>\n",
       "      <th>id_cliente</th>\n",
       "      <th>valor</th>\n",
       "    </tr>\n",
       "  </thead>\n",
       "  <tbody>\n",
       "    <tr>\n",
       "      <th>count</th>\n",
       "      <td>6919.000000</td>\n",
       "      <td>6919.000000</td>\n",
       "    </tr>\n",
       "    <tr>\n",
       "      <th>mean</th>\n",
       "      <td>11682.515826</td>\n",
       "      <td>152.643537</td>\n",
       "    </tr>\n",
       "    <tr>\n",
       "      <th>std</th>\n",
       "      <td>6833.386793</td>\n",
       "      <td>541.151076</td>\n",
       "    </tr>\n",
       "    <tr>\n",
       "      <th>min</th>\n",
       "      <td>4.000000</td>\n",
       "      <td>0.000000</td>\n",
       "    </tr>\n",
       "    <tr>\n",
       "      <th>25%</th>\n",
       "      <td>5525.000000</td>\n",
       "      <td>14.735000</td>\n",
       "    </tr>\n",
       "    <tr>\n",
       "      <th>50%</th>\n",
       "      <td>11749.000000</td>\n",
       "      <td>49.490000</td>\n",
       "    </tr>\n",
       "    <tr>\n",
       "      <th>75%</th>\n",
       "      <td>17717.000000</td>\n",
       "      <td>123.930000</td>\n",
       "    </tr>\n",
       "    <tr>\n",
       "      <th>max</th>\n",
       "      <td>23569.000000</td>\n",
       "      <td>20278.800000</td>\n",
       "    </tr>\n",
       "  </tbody>\n",
       "</table>\n",
       "</div>"
      ],
      "text/plain": [
       "         id_cliente         valor\n",
       "count   6919.000000   6919.000000\n",
       "mean   11682.515826    152.643537\n",
       "std     6833.386793    541.151076\n",
       "min        4.000000      0.000000\n",
       "25%     5525.000000     14.735000\n",
       "50%    11749.000000     49.490000\n",
       "75%    17717.000000    123.930000\n",
       "max    23569.000000  20278.800000"
      ]
     },
     "execution_count": 5,
     "metadata": {},
     "output_type": "execute_result"
    }
   ],
   "source": [
    "#Estatística descritiva\n",
    "df.describe()"
   ]
  },
  {
   "cell_type": "code",
   "execution_count": 6,
   "id": "0c5e1bc7",
   "metadata": {},
   "outputs": [
    {
     "data": {
      "text/plain": [
       "id_cliente    0\n",
       "data          0\n",
       "valor         0\n",
       "dtype: int64"
      ]
     },
     "execution_count": 6,
     "metadata": {},
     "output_type": "execute_result"
    }
   ],
   "source": [
    "#Nenhum valor nulo\n",
    "df.isnull().sum()"
   ]
  },
  {
   "cell_type": "markdown",
   "id": "e43c7c83",
   "metadata": {},
   "source": [
    "# Matriz de RFM"
   ]
  },
  {
   "cell_type": "code",
   "execution_count": 7,
   "id": "000af260",
   "metadata": {},
   "outputs": [
    {
     "data": {
      "text/html": [
       "<div>\n",
       "<style scoped>\n",
       "    .dataframe tbody tr th:only-of-type {\n",
       "        vertical-align: middle;\n",
       "    }\n",
       "\n",
       "    .dataframe tbody tr th {\n",
       "        vertical-align: top;\n",
       "    }\n",
       "\n",
       "    .dataframe thead th {\n",
       "        text-align: right;\n",
       "    }\n",
       "</style>\n",
       "<table border=\"1\" class=\"dataframe\">\n",
       "  <thead>\n",
       "    <tr style=\"text-align: right;\">\n",
       "      <th></th>\n",
       "      <th>frequency</th>\n",
       "      <th>recency</th>\n",
       "      <th>T</th>\n",
       "      <th>monetary_value</th>\n",
       "    </tr>\n",
       "    <tr>\n",
       "      <th>id_cliente</th>\n",
       "      <th></th>\n",
       "      <th></th>\n",
       "      <th></th>\n",
       "      <th></th>\n",
       "    </tr>\n",
       "  </thead>\n",
       "  <tbody>\n",
       "    <tr>\n",
       "      <th>4</th>\n",
       "      <td>3.0</td>\n",
       "      <td>345.0</td>\n",
       "      <td>545.0</td>\n",
       "      <td>42.46</td>\n",
       "    </tr>\n",
       "    <tr>\n",
       "      <th>18</th>\n",
       "      <td>0.0</td>\n",
       "      <td>0.0</td>\n",
       "      <td>542.0</td>\n",
       "      <td>0.00</td>\n",
       "    </tr>\n",
       "    <tr>\n",
       "      <th>21</th>\n",
       "      <td>1.0</td>\n",
       "      <td>12.0</td>\n",
       "      <td>545.0</td>\n",
       "      <td>11.77</td>\n",
       "    </tr>\n",
       "    <tr>\n",
       "      <th>50</th>\n",
       "      <td>0.0</td>\n",
       "      <td>0.0</td>\n",
       "      <td>545.0</td>\n",
       "      <td>0.00</td>\n",
       "    </tr>\n",
       "    <tr>\n",
       "      <th>60</th>\n",
       "      <td>0.0</td>\n",
       "      <td>0.0</td>\n",
       "      <td>514.0</td>\n",
       "      <td>0.00</td>\n",
       "    </tr>\n",
       "  </tbody>\n",
       "</table>\n",
       "</div>"
      ],
      "text/plain": [
       "            frequency  recency      T  monetary_value\n",
       "id_cliente                                           \n",
       "4                 3.0    345.0  545.0           42.46\n",
       "18                0.0      0.0  542.0            0.00\n",
       "21                1.0     12.0  545.0           11.77\n",
       "50                0.0      0.0  545.0            0.00\n",
       "60                0.0      0.0  514.0            0.00"
      ]
     },
     "execution_count": 7,
     "metadata": {},
     "output_type": "execute_result"
    }
   ],
   "source": [
    "rfm = summary_data_from_transaction_data(df,'id_cliente','data','valor')#,include_first_transaction=True)\n",
    "rfm = rfm[~rfm.isna()] #Caso haja algum valor nulo, seriam removidos.\n",
    "rfm.head()"
   ]
  },
  {
   "cell_type": "markdown",
   "id": "69dceb4e",
   "metadata": {},
   "source": [
    "# Predição da quantidade de transações e probabilidade de o cliente virar um churn"
   ]
  },
  {
   "cell_type": "code",
   "execution_count": null,
   "id": "5e963e3e",
   "metadata": {},
   "outputs": [],
   "source": [
    "#Remoção de frequências e valores monetários zerados\n",
    "rfm = rfm[(rfm['frequency'] > 0) & (rfm['monetary_value'] > 0)]"
   ]
  },
  {
   "cell_type": "code",
   "execution_count": 8,
   "id": "a9a7f2cd",
   "metadata": {},
   "outputs": [
    {
     "data": {
      "text/plain": [
       "<lifetimes.BetaGeoFitter: fitted with 2357 subjects, a: 0.61, alpha: 38.13, b: 2.65, r: 0.25>"
      ]
     },
     "execution_count": 8,
     "metadata": {},
     "output_type": "execute_result"
    }
   ],
   "source": [
    "#Criação e treinamento do modelo.\n",
    "bgf = BetaGeoFitter(penalizer_coef=0.0)\n",
    "bgf.fit(rfm['frequency'], rfm['recency'], rfm['T'])"
   ]
  },
  {
   "cell_type": "code",
   "execution_count": 9,
   "id": "30e92a8a",
   "metadata": {},
   "outputs": [],
   "source": [
    "#Previsão da quantidade de compras dos próximos 90 dias.\n",
    "t = 90 #Previsão dos próximos 90 dias\n",
    "rfm['predicao_'+str(t)+'_dias'] = bgf.conditional_expected_number_of_purchases_up_to_time(t,rfm['frequency'], rfm['recency'],rfm['T'])"
   ]
  },
  {
   "cell_type": "code",
   "execution_count": 10,
   "id": "c614e066",
   "metadata": {},
   "outputs": [],
   "source": [
    "#Criação das colunas Retenção e Churn\n",
    "rfm['Retention'] = bgf.conditional_probability_alive(rfm['frequency'], rfm['recency'], rfm['T'])\n",
    "rfm['Churn'] = 1-bgf.conditional_probability_alive(rfm['frequency'], rfm['recency'], rfm['T'])"
   ]
  },
  {
   "cell_type": "markdown",
   "id": "cb63658d",
   "metadata": {},
   "source": [
    "# Hipóteses do modelo Gamma Gamma"
   ]
  },
  {
   "cell_type": "code",
   "execution_count": 11,
   "id": "9dd03acb",
   "metadata": {},
   "outputs": [
    {
     "data": {
      "text/html": [
       "<div>\n",
       "<style scoped>\n",
       "    .dataframe tbody tr th:only-of-type {\n",
       "        vertical-align: middle;\n",
       "    }\n",
       "\n",
       "    .dataframe tbody tr th {\n",
       "        vertical-align: top;\n",
       "    }\n",
       "\n",
       "    .dataframe thead th {\n",
       "        text-align: right;\n",
       "    }\n",
       "</style>\n",
       "<table border=\"1\" class=\"dataframe\">\n",
       "  <thead>\n",
       "    <tr style=\"text-align: right;\">\n",
       "      <th></th>\n",
       "      <th>frequency</th>\n",
       "      <th>monetary_value</th>\n",
       "    </tr>\n",
       "  </thead>\n",
       "  <tbody>\n",
       "    <tr>\n",
       "      <th>frequency</th>\n",
       "      <td>1.000000</td>\n",
       "      <td>0.028509</td>\n",
       "    </tr>\n",
       "    <tr>\n",
       "      <th>monetary_value</th>\n",
       "      <td>0.028509</td>\n",
       "      <td>1.000000</td>\n",
       "    </tr>\n",
       "  </tbody>\n",
       "</table>\n",
       "</div>"
      ],
      "text/plain": [
       "                frequency  monetary_value\n",
       "frequency        1.000000        0.028509\n",
       "monetary_value   0.028509        1.000000"
      ]
     },
     "execution_count": 11,
     "metadata": {},
     "output_type": "execute_result"
    }
   ],
   "source": [
    "#Analise da correlação entre os campos de frequência e valor monetário, que precisa ser baixa\n",
    "rfm[['frequency','monetary_value']].corr()"
   ]
  },
  {
   "cell_type": "markdown",
   "id": "99ee8e90",
   "metadata": {},
   "source": [
    "# Predição do CLV"
   ]
  },
  {
   "cell_type": "code",
   "execution_count": 12,
   "id": "2f7361a5",
   "metadata": {},
   "outputs": [
    {
     "data": {
      "text/plain": [
       "<lifetimes.GammaGammaFitter: fitted with 1139 subjects, p: 2.16, q: 1.22, v: 25.64>"
      ]
     },
     "execution_count": 12,
     "metadata": {},
     "output_type": "execute_result"
    }
   ],
   "source": [
    "#Criação e treinamento do modelo GAMMA GAMMA.\n",
    "ggf = GammaGammaFitter(penalizer_coef = 0.0)\n",
    "ggf.fit(rfm['frequency'], rfm['monetary_value'])"
   ]
  },
  {
   "cell_type": "code",
   "execution_count": 13,
   "id": "d38a0d0a",
   "metadata": {},
   "outputs": [],
   "source": [
    "preds_total = ggf.customer_lifetime_value(\n",
    "    bgf,\n",
    "    rfm['frequency'],\n",
    "    rfm['recency'],\n",
    "    rfm['T'],\n",
    "    rfm['monetary_value'],\n",
    "    time = 3, #previsão do CLV dos últimos 3 meses.\n",
    "    freq='D',\n",
    "    discount_rate = 0.01 #desconto do fluxo de caixa da empresa\n",
    ")\n",
    "rfm['clv'] = preds_total"
   ]
  },
  {
   "cell_type": "code",
   "execution_count": 14,
   "id": "44f66f05",
   "metadata": {},
   "outputs": [
    {
     "data": {
      "text/html": [
       "<div>\n",
       "<style scoped>\n",
       "    .dataframe tbody tr th:only-of-type {\n",
       "        vertical-align: middle;\n",
       "    }\n",
       "\n",
       "    .dataframe tbody tr th {\n",
       "        vertical-align: top;\n",
       "    }\n",
       "\n",
       "    .dataframe thead th {\n",
       "        text-align: right;\n",
       "    }\n",
       "</style>\n",
       "<table border=\"1\" class=\"dataframe\">\n",
       "  <thead>\n",
       "    <tr style=\"text-align: right;\">\n",
       "      <th></th>\n",
       "      <th>frequency</th>\n",
       "      <th>recency</th>\n",
       "      <th>T</th>\n",
       "      <th>monetary_value</th>\n",
       "      <th>predicao_90_dias</th>\n",
       "      <th>Retention</th>\n",
       "      <th>Churn</th>\n",
       "      <th>clv</th>\n",
       "      <th>segmentacao_clv</th>\n",
       "    </tr>\n",
       "    <tr>\n",
       "      <th>id_cliente</th>\n",
       "      <th></th>\n",
       "      <th></th>\n",
       "      <th></th>\n",
       "      <th></th>\n",
       "      <th></th>\n",
       "      <th></th>\n",
       "      <th></th>\n",
       "      <th></th>\n",
       "      <th></th>\n",
       "    </tr>\n",
       "  </thead>\n",
       "  <tbody>\n",
       "    <tr>\n",
       "      <th>4</th>\n",
       "      <td>3.0</td>\n",
       "      <td>345.0</td>\n",
       "      <td>545.0</td>\n",
       "      <td>42.460000</td>\n",
       "      <td>0.321990</td>\n",
       "      <td>0.661119</td>\n",
       "      <td>0.338881</td>\n",
       "      <td>15.584225</td>\n",
       "      <td>Médio</td>\n",
       "    </tr>\n",
       "    <tr>\n",
       "      <th>21</th>\n",
       "      <td>1.0</td>\n",
       "      <td>12.0</td>\n",
       "      <td>545.0</td>\n",
       "      <td>11.770000</td>\n",
       "      <td>0.031631</td>\n",
       "      <td>0.167448</td>\n",
       "      <td>0.832552</td>\n",
       "      <td>1.054904</td>\n",
       "      <td>Baixíssimo</td>\n",
       "    </tr>\n",
       "    <tr>\n",
       "      <th>111</th>\n",
       "      <td>15.0</td>\n",
       "      <td>535.0</td>\n",
       "      <td>545.0</td>\n",
       "      <td>189.383333</td>\n",
       "      <td>2.160054</td>\n",
       "      <td>0.954654</td>\n",
       "      <td>0.045346</td>\n",
       "      <td>402.044193</td>\n",
       "      <td>Top</td>\n",
       "    </tr>\n",
       "    <tr>\n",
       "      <th>112</th>\n",
       "      <td>1.0</td>\n",
       "      <td>35.0</td>\n",
       "      <td>545.0</td>\n",
       "      <td>11.770000</td>\n",
       "      <td>0.046106</td>\n",
       "      <td>0.244077</td>\n",
       "      <td>0.755923</td>\n",
       "      <td>1.537653</td>\n",
       "      <td>Baixíssimo</td>\n",
       "    </tr>\n",
       "    <tr>\n",
       "      <th>113</th>\n",
       "      <td>2.0</td>\n",
       "      <td>430.0</td>\n",
       "      <td>545.0</td>\n",
       "      <td>13.380000</td>\n",
       "      <td>0.265669</td>\n",
       "      <td>0.785425</td>\n",
       "      <td>0.214575</td>\n",
       "      <td>6.500225</td>\n",
       "      <td>Baixo</td>\n",
       "    </tr>\n",
       "  </tbody>\n",
       "</table>\n",
       "</div>"
      ],
      "text/plain": [
       "            frequency  recency      T  monetary_value  predicao_90_dias  \\\n",
       "id_cliente                                                                \n",
       "4                 3.0    345.0  545.0       42.460000          0.321990   \n",
       "21                1.0     12.0  545.0       11.770000          0.031631   \n",
       "111              15.0    535.0  545.0      189.383333          2.160054   \n",
       "112               1.0     35.0  545.0       11.770000          0.046106   \n",
       "113               2.0    430.0  545.0       13.380000          0.265669   \n",
       "\n",
       "            Retention     Churn         clv segmentacao_clv  \n",
       "id_cliente                                                   \n",
       "4            0.661119  0.338881   15.584225           Médio  \n",
       "21           0.167448  0.832552    1.054904      Baixíssimo  \n",
       "111          0.954654  0.045346  402.044193             Top  \n",
       "112          0.244077  0.755923    1.537653      Baixíssimo  \n",
       "113          0.785425  0.214575    6.500225           Baixo  "
      ]
     },
     "execution_count": 14,
     "metadata": {},
     "output_type": "execute_result"
    }
   ],
   "source": [
    "rfm['segmentacao_clv'] = pd.qcut(rfm['clv'], q=5, labels=['Baixíssimo', 'Baixo', 'Médio', 'Alto', 'Top']) #Segmentação dos clientes em 5 \n",
    "#grupos de igual quantidade de valores  \n",
    "rfm.head()"
   ]
  },
  {
   "cell_type": "markdown",
   "id": "c03b1344",
   "metadata": {},
   "source": [
    "# VALIDAÇÃO DO MODELO"
   ]
  },
  {
   "cell_type": "code",
   "execution_count": 15,
   "id": "294d34fb",
   "metadata": {},
   "outputs": [
    {
     "data": {
      "text/plain": [
       "2.631772346200048"
      ]
     },
     "execution_count": 15,
     "metadata": {},
     "output_type": "execute_result"
    }
   ],
   "source": [
    "# Primeiramente, definimos a predição do modelo.\n",
    "# O número real de transações no período observado, precisa ser acrescentado de 1.\n",
    "valores_reais  = rfm[\"frequency\"] #+ 1\n",
    "\n",
    "# Tempo do dataset\n",
    "tempo = (df.data.max()-df.data.min()).days\n",
    "\n",
    "# Predizer o número de transações do tempo observado do dataset.\n",
    "valores_preditos = bgf.predict(t=tempo, frequency=rfm['frequency'], recency=rfm['recency'], T=rfm['T'])\n",
    "\n",
    "valores_reais = valores_reais.fillna(0)\n",
    "valores_preditos = valores_preditos.fillna(0)\n",
    "\n",
    "RMSE = mean_squared_error(y_true = valores_reais, y_pred = valores_preditos, squared = False)\n",
    "\n",
    "RMSE"
   ]
  },
  {
   "cell_type": "code",
   "execution_count": 16,
   "id": "36719748",
   "metadata": {},
   "outputs": [
    {
     "name": "stdout",
     "output_type": "stream",
     "text": [
      "Mean absolute error: 1.5997010769132896\n"
     ]
    },
    {
     "data": {
      "image/png": "[encoded data removed]",
      "text/plain": [
       "<Figure size 720x504 with 1 Axes>"
      ]
     },
     "metadata": {
      "needs_background": "light"
     },
     "output_type": "display_data"
    },
    {
     "data": {
      "image/png": "[encoded data removed]",
      "text/plain": [
       "<Figure size 1440x720 with 2 Axes>"
      ]
     },
     "metadata": {
      "needs_background": "light"
     },
     "output_type": "display_data"
    },
    {
     "name": "stdout",
     "output_type": "stream",
     "text": [
      "F1 score: 0.3258443374477299\n",
      "Amostra em cada bin: \n",
      "\n",
      "0.0    856\n",
      "1.0    195\n",
      "2.0     61\n",
      "3.0     16\n",
      "4.0      4\n",
      "6.0      4\n",
      "5.0      3\n",
      "dtype: int64\n"
     ]
    }
   ],
   "source": [
    "def validar_clv(atual, predito, bins):\n",
    "    print(f\"Mean absolute error: {mean_absolute_error(atual, predito)}\")\n",
    "    #Evaluate numeric\n",
    "    plt.figure(figsize=(10, 7))\n",
    "    plt.scatter(predito, atual)\n",
    "    plt.xlabel('Predito')\n",
    "    plt.ylabel('Atual')\n",
    "    plt.title('Predito vs Atual')\n",
    "    plt.show()\n",
    "    \n",
    "    #Avaliar os Bins\n",
    "    est = KBinsDiscretizer(n_bins=bins, encode='ordinal', strategy='kmeans')\n",
    "    est.fit(np.array(atual).reshape(-1, 1))\n",
    "    bin_atual = est.transform(np.array(atual).reshape(-1, 1)).ravel()\n",
    "    bin_predito = est.transform(np.array(predito).reshape(-1, 1)).ravel()\n",
    "    \n",
    "    cm = confusion_matrix(bin_atual, bin_predito, normalize='true')\n",
    "    df_cm = pd.DataFrame(cm, index = range(1, bins+1),\n",
    "                      columns = range(1, bins+1))\n",
    "    plt.figure(figsize = (20,10))\n",
    "    sns.heatmap(df_cm, annot=True)\n",
    "\n",
    "    # Visualização\n",
    "    b, t = plt.ylim() # descobrir os valores para a base e o topo\n",
    "    b += 0.5 # Add 0.5 to the bottom\n",
    "    t -= 0.5 # Subtract 0.5 from the top\n",
    "    plt.ylim(b, t) # update the ylim(bottom, top) values\n",
    "    plt.show()\n",
    "    print(f'F1 score: {f1_score(bin_atual, bin_predito, average=\"macro\")}')\n",
    "    print('Amostra em cada bin: \\n')\n",
    "    print(pd.Series(bin_atual).sort_values().value_counts())\n",
    "\n",
    "validar_clv(valores_reais, valores_preditos, bins=7)"
   ]
  },
  {
   "cell_type": "code",
   "execution_count": 17,
   "id": "87258c1c",
   "metadata": {},
   "outputs": [
    {
     "data": {
      "text/plain": [
       "<AxesSubplot:title={'center':'Frequência de Transações Repetidas'}, xlabel='Número de transações do período de calibração', ylabel='Clientes'>"
      ]
     },
     "execution_count": 17,
     "metadata": {},
     "output_type": "execute_result"
    },
    {
     "data": {
      "image/png": "[encoded data removed]",
      "text/plain": [
       "<Figure size 432x288 with 1 Axes>"
      ]
     },
     "metadata": {
      "needs_background": "light"
     },
     "output_type": "display_data"
    }
   ],
   "source": [
    "plot_period_transactions(bgf, max_frequency=10, title='Frequência de Transações Repetidas',\n",
    "    xlabel='Número de transações do período de calibração',\n",
    "    ylabel='Clientes', label=([\"Atual\",\"Predito\"]))\n",
    "#Aqui mostra a comparação entre as frequencias reais e preditas dos dados. Parece está acurado."
   ]
  },
  {
   "cell_type": "markdown",
   "id": "b2611380",
   "metadata": {},
   "source": [
    "# Comparação entre o valor médio do conjunto de dados e o do modelo"
   ]
  },
  {
   "cell_type": "code",
   "execution_count": 27,
   "id": "144e8e2d",
   "metadata": {},
   "outputs": [],
   "source": [
    "#Também, posso fazer a previsão do valor médio do modelo para compará-lo com o valor médio real do conjunto de dados, visto que \n",
    "#a multiplicação deste parâmetro com a predição da quantidade de compras que serão feitas formam o clv. Assim, posso mensurar \n",
    "#melhor a performance do modelo.\n",
    "predicao_valor_monetario = ggf.conditional_expected_average_profit(\n",
    "        rfm['frequency'],\n",
    "        rfm['monetary_value']\n",
    ")"
   ]
  },
  {
   "cell_type": "code",
   "execution_count": 29,
   "id": "bd046720",
   "metadata": {},
   "outputs": [
    {
     "data": {
      "text/plain": [
       "<AxesSubplot:xlabel='monetary_value', ylabel='Density'>"
      ]
     },
     "execution_count": 29,
     "metadata": {},
     "output_type": "execute_result"
    },
    {
     "data": {
      "image/png": "[encoded data removed]",
      "text/plain": [
       "<Figure size 720x360 with 1 Axes>"
      ]
     },
     "metadata": {
      "needs_background": "light"
     },
     "output_type": "display_data"
    }
   ],
   "source": [
    "#Quanto mais próximos estiverem os valores, melhor será a previsão do modelo.\n",
    "fig, ax = plt.subplots(figsize=(10,5))\n",
    "sns.distplot(predicao_valor_monetario,ax=ax)\n",
    "sns.distplot(rfm['monetary_value'],ax=ax)"
   ]
  },
  {
   "cell_type": "code",
   "execution_count": null,
   "id": "079ac9c0",
   "metadata": {},
   "outputs": [],
   "source": []
  }
 ],
 "metadata": {
  "kernelspec": {
   "display_name": "Python 3 (ipykernel)",
   "language": "python",
   "name": "python3"
  },
  "language_info": {
   "codemirror_mode": {
    "name": "ipython",
    "version": 3
   },
   "file_extension": ".py",
   "mimetype": "text/x-python",
   "name": "python",
   "nbconvert_exporter": "python",
   "pygments_lexer": "ipython3",
   "version": "3.9.12"
  }
 },
 "nbformat": 4,
 "nbformat_minor": 5
}
